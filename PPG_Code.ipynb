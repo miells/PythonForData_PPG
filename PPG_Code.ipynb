{
 "cells": [
  {
   "cell_type": "markdown",
   "metadata": {},
   "source": [
    "# Imports"
   ]
  },
  {
   "cell_type": "code",
   "execution_count": 13,
   "metadata": {},
   "outputs": [],
   "source": [
    "import pickle\n",
    "import pandas as pd"
   ]
  },
  {
   "cell_type": "markdown",
   "metadata": {},
   "source": [
    "# 0) Charger les données"
   ]
  },
  {
   "cell_type": "code",
   "execution_count": 14,
   "metadata": {},
   "outputs": [],
   "source": [
    "path=\"./PPG_FieldStudy/S1/S1.pkl\""
   ]
  },
  {
   "cell_type": "code",
   "execution_count": 15,
   "metadata": {},
   "outputs": [],
   "source": [
    "with open(path, \"rb\") as f:\n",
    "    data = pickle.load(f, encoding=\"latin-1\")"
   ]
  },
  {
   "cell_type": "markdown",
   "metadata": {},
   "source": [
    "# 1) Explorer les données"
   ]
  },
  {
   "cell_type": "code",
   "execution_count": 16,
   "metadata": {},
   "outputs": [
    {
     "name": "stdout",
     "output_type": "stream",
     "text": [
      "dict_keys(['rpeaks', 'signal', 'label', 'activity', 'questionnaire', 'subject'])\n"
     ]
    }
   ],
   "source": [
    "print(data.keys())"
   ]
  },
  {
   "cell_type": "code",
   "execution_count": 17,
   "metadata": {},
   "outputs": [
    {
     "data": {
      "text/plain": [
       "{'WEIGHT': 78.0,\n",
       " 'Gender': ' m',\n",
       " 'AGE': 34,\n",
       " 'HEIGHT': 182.0,\n",
       " 'SKIN': 3,\n",
       " 'SPORT': 6}"
      ]
     },
     "execution_count": 17,
     "metadata": {},
     "output_type": "execute_result"
    }
   ],
   "source": [
    "data['questionnaire']"
   ]
  },
  {
   "cell_type": "code",
   "execution_count": 18,
   "metadata": {},
   "outputs": [
    {
     "data": {
      "text/html": [
       "<div>\n",
       "<style scoped>\n",
       "    .dataframe tbody tr th:only-of-type {\n",
       "        vertical-align: middle;\n",
       "    }\n",
       "\n",
       "    .dataframe tbody tr th {\n",
       "        vertical-align: top;\n",
       "    }\n",
       "\n",
       "    .dataframe thead th {\n",
       "        text-align: right;\n",
       "    }\n",
       "</style>\n",
       "<table border=\"1\" class=\"dataframe\">\n",
       "  <thead>\n",
       "    <tr style=\"text-align: right;\">\n",
       "      <th></th>\n",
       "      <th>chest</th>\n",
       "      <th>wrist</th>\n",
       "    </tr>\n",
       "  </thead>\n",
       "  <tbody>\n",
       "    <tr>\n",
       "      <th>ACC</th>\n",
       "      <td>[[0.8564000129699707, -0.06779998540878296, -0...</td>\n",
       "      <td>[[-0.765625, -0.078125, 0.671875], [-0.765625,...</td>\n",
       "    </tr>\n",
       "    <tr>\n",
       "      <th>ECG</th>\n",
       "      <td>[[0.015609741210937498], [0.01812744140625], [...</td>\n",
       "      <td>NaN</td>\n",
       "    </tr>\n",
       "    <tr>\n",
       "      <th>EMG</th>\n",
       "      <td>[[-1.5], [-1.5], [-1.5], [-1.5], [-1.5], [-1.5...</td>\n",
       "      <td>NaN</td>\n",
       "    </tr>\n",
       "    <tr>\n",
       "      <th>EDA</th>\n",
       "      <td>[[0.0], [0.0], [0.0], [0.0], [0.0], [0.0], [0....</td>\n",
       "      <td>[[4.722437], [4.728843], [4.718594], [4.717312...</td>\n",
       "    </tr>\n",
       "    <tr>\n",
       "      <th>Temp</th>\n",
       "      <td>[[-273.15], [-273.15], [-273.15], [-273.15], [...</td>\n",
       "      <td>NaN</td>\n",
       "    </tr>\n",
       "    <tr>\n",
       "      <th>Resp</th>\n",
       "      <td>[[4.44183349609375], [4.45098876953125], [4.47...</td>\n",
       "      <td>NaN</td>\n",
       "    </tr>\n",
       "    <tr>\n",
       "      <th>BVP</th>\n",
       "      <td>NaN</td>\n",
       "      <td>[[7.28], [6.33], [5.46], [4.6], [3.74], [2.86]...</td>\n",
       "    </tr>\n",
       "    <tr>\n",
       "      <th>TEMP</th>\n",
       "      <td>NaN</td>\n",
       "      <td>[[32.13], [32.16], [32.16], [32.16], [32.16], ...</td>\n",
       "    </tr>\n",
       "  </tbody>\n",
       "</table>\n",
       "</div>"
      ],
      "text/plain": [
       "                                                  chest  \\\n",
       "ACC   [[0.8564000129699707, -0.06779998540878296, -0...   \n",
       "ECG   [[0.015609741210937498], [0.01812744140625], [...   \n",
       "EMG   [[-1.5], [-1.5], [-1.5], [-1.5], [-1.5], [-1.5...   \n",
       "EDA   [[0.0], [0.0], [0.0], [0.0], [0.0], [0.0], [0....   \n",
       "Temp  [[-273.15], [-273.15], [-273.15], [-273.15], [...   \n",
       "Resp  [[4.44183349609375], [4.45098876953125], [4.47...   \n",
       "BVP                                                 NaN   \n",
       "TEMP                                                NaN   \n",
       "\n",
       "                                                  wrist  \n",
       "ACC   [[-0.765625, -0.078125, 0.671875], [-0.765625,...  \n",
       "ECG                                                 NaN  \n",
       "EMG                                                 NaN  \n",
       "EDA   [[4.722437], [4.728843], [4.718594], [4.717312...  \n",
       "Temp                                                NaN  \n",
       "Resp                                                NaN  \n",
       "BVP   [[7.28], [6.33], [5.46], [4.6], [3.74], [2.86]...  \n",
       "TEMP  [[32.13], [32.16], [32.16], [32.16], [32.16], ...  "
      ]
     },
     "execution_count": 18,
     "metadata": {},
     "output_type": "execute_result"
    }
   ],
   "source": [
    "pd.DataFrame(data['signal'])"
   ]
  },
  {
   "cell_type": "markdown",
   "metadata": {},
   "source": [
    "### Les données sont réparties de la manière suivante :\n",
    "- rpeaks : qui contient l'index des rpeaks enregistré par l'ECG (echocardiogramme) en 700Hz\n",
    "- signal : qui contient les valeurs des capteurs disposé sur le patient au niveau de la poitrine (chest) et du poignet (wrist)\n",
    "- label : qui contient le rythme cardiaque (heart rate) moyen instantané pris par l'ECG sur une fenêtre de 8 secondes avec glissement de 2 secondes\n",
    "- activity : qui contient l'id des activités effectué par le patient\n",
    "    - 0 : transition d'une activité à une autre\n",
    "    - 1 : s'asseoir\n",
    "    - 2 : monter et descendre des excaliers\n",
    "    - 3 : babyfoot\n",
    "    - 4 : faire du vélo\n",
    "    - 5 : conduire\n",
    "    - 6 : déjeuner\n",
    "    - 7 : marcher\n",
    "    - 8 : travailler\n",
    "- questionnaire : les informations personnelles du patient (age, poids, taille, sexe, type de peau, niveau d'activité physique sur une échelle de 1-6)\n",
    "- subject : id du patient\n"
   ]
  },
  {
   "cell_type": "markdown",
   "metadata": {},
   "source": [
    "# 2) Tranformer les données\n",
    "\n",
    "Dans l'état actuel des données, il est difficile d'analyser les différentes variables. Il faut donc transformer les données.\n",
    "\n",
    "L'idée est d'obtenir un dataframe avec toutes les données de tous les clients.\n",
    "\n",
    "De plus, comme les capteurs/appareils utilisés pour capturer les données n'avaient pas la même fréquence, le nombre de lignes de chaque colonne ne correspondent pas, c'est pourquoi il faut tous les mettre sur la même. J'ai décidé de tout mettre sur la fréquence 4Hz.\n",
    "\n",
    "\n",
    "## 2.1) Transformer les données d'un patient dans une dataframe\n",
    "\n",
    "Les changements à effectuer sont donc les suivants :\n",
    "\n",
    "### 'activity' (4Hz) :\n",
    "- Transformer en colonne d'un dataframe\n",
    "\n",
    "### 'subject' :\n",
    "- Transformer en colonne d'un dataframe\n",
    "- Répéter l'id du sujet sur toutes les lignes le concernant\n",
    "\n",
    "### 'questionnaire' :\n",
    "- Transformer en plusieurs colonnes d'un dataframe\n",
    "- Répéter les infos weight, age, gender, height, skin, sport sur toutes lignes concernant le même patient\n",
    "- Pour \"gender\", transformer en \"male\" 1 pour True et 0 pour False\n",
    "\n",
    "### 'label' (fenêtre de 8 sec avec glissement de 2 sec) :\n",
    "- Transformer en colonne d'un dataframe\n",
    "- On multiplie par 8 chaque valeur pour avoir la bonne fréquence\n",
    "\n",
    "### 'rpeaks' (capteur de 700Hz) :\n",
    "- Transformer en colonne d'un dataframe\n",
    "- Comme ça correspond à l'index de chaque rpeak du patient, on peut donc calculer le nombre de rpeaks par 0.25 seconde (ce qui correspond à 4Hz), c'est-à-dire le nombre d'index compris entre des intervalles de 700/4 = 175."
   ]
  },
  {
   "cell_type": "code",
   "execution_count": 19,
   "metadata": {},
   "outputs": [
    {
     "name": "stdout",
     "output_type": "stream",
     "text": [
      "clefs ok = ['rpeaks', 'label', 'activity', 'questionnaire', 'subject']\n",
      "clefs avec un pbms = []\n"
     ]
    }
   ],
   "source": [
    "dfs  = []\n",
    "pbms = []\n",
    "oks  = []\n",
    "for k in data.keys():\n",
    "    if k != \"signal\":\n",
    "        try:\n",
    "            if k == 'activity':\n",
    "                df = pd.DataFrame(data[k], columns=['activity']) \n",
    "                dfs.append(df)\n",
    "                oks.append(k)\n",
    "            elif k == 'subject':\n",
    "                df = pd.DataFrame([data[k]] * len(data['activity']), columns=['subject'])\n",
    "                dfs.append(df)\n",
    "                oks.append(k)\n",
    "            elif k == 'questionnaire':\n",
    "                for key in data[k].keys():\n",
    "                    if key == 'Gender':\n",
    "                        if data[k][key] == ' m':\n",
    "                            df = pd.DataFrame([1] * len(data['activity']), columns=['male'])\n",
    "                        if data[k][key] == ' f':\n",
    "                            df = pd.DataFrame([0] * len(data['activity']), columns=['male'])\n",
    "                    else:\n",
    "                        df = pd.DataFrame([data[k][key]] * len(data['activity']), columns=[key.lower()])\n",
    "                    dfs.append(df)\n",
    "                oks.append(k)\n",
    "            elif k == 'label':\n",
    "                lab = []\n",
    "                count = 0\n",
    "                for i in range(0,len(data[k])):\n",
    "                    while(count != 8):\n",
    "                        count = count+1\n",
    "                        lab.append(data[k][i])\n",
    "                    count = 0\n",
    "                    if i == len(data[k])-1:\n",
    "                        while(count != 8*3):\n",
    "                            count = count+1\n",
    "                            lab.append(data[k][i])\n",
    "                df = pd.DataFrame({k : lab })\n",
    "                dfs.append(df)\n",
    "                oks.append(k)\n",
    "            elif k == 'rpeaks':\n",
    "                nbitem = 0\n",
    "                rpeaknb = []\n",
    "                count = 0\n",
    "                for i in range(0, int(max(data[k])/175)+1):\n",
    "                    for item in data[k][nbitem:]:\n",
    "                        if item >= i*175 and item < (i+1)*175:\n",
    "                            count = count + 1\n",
    "                            nbitem = nbitem+1\n",
    "                        else: break\n",
    "                    rpeaknb.append(count)\n",
    "                    count = 0\n",
    "                df = pd.DataFrame({'rpeakcount' : rpeaknb })\n",
    "                dfs.append(df)\n",
    "                oks.append(k)\n",
    "            else:\n",
    "                df = pd.DataFrame({k : data[k] }) \n",
    "                dfs.append(df)\n",
    "                oks.append(k)\n",
    "        except Exception as e:\n",
    "            pbms.append(k + str(e))\n",
    "print(f\"clefs ok = {oks}\")\n",
    "print(f\"clefs avec un pbms = {pbms}\")\n",
    "\n",
    "# Pour fusionner tous les dataframes\n",
    "dataDf = pd.concat(dfs, axis=1)"
   ]
  },
  {
   "cell_type": "markdown",
   "metadata": {},
   "source": [
    "### 'signal' :\n",
    "#### - 'chest' (700Hz) :\n",
    "- Transformer en plusieurs colonne d'un dataframe :\n",
    "    - ACC : pour l'accéléromètre\n",
    "    - ECG : pour l'échocardiogramme\n",
    "    - Resp : pour la respiration\n",
    "- Toutes les données ont été capturées en 700Hz, il faut donc les mettre en 4Hz, pour cela on prend donc 1 valeur sur 175\n",
    "- Certaines colonnes sont inutiles comme: Temp, EMG et EDA (pour chest).\n",
    "\n",
    "#### - 'wrist' (32Hz, 64Hz, 4Hz) :\n",
    "- Transformer en plusieurs colonne d'un dataframe :\n",
    "    - ACC : pour l'accéléromètre (en 32Hz)\n",
    "    - BVP : pour Blood Volume Pulse (en 64Hz)\n",
    "    - EDA : pour la niveau de conductance de la peau (déjà en 4Hz)\n",
    "    - Temps : pour la température déjà en (4Hz)\n",
    "- Les données ont été capturées à des fréquences différentes, il faut donc tous les mettre à 4Hz. Pour le 32Hz, ça revient à prendre 1 valeur sur 8 et pour 64Hz, 1 valeur sur 16.\n",
    "- Certaines colonnes sont inutiles comme: Temp, EMG et EDA (pour chest)."
   ]
  },
  {
   "cell_type": "code",
   "execution_count": 20,
   "metadata": {},
   "outputs": [
    {
     "name": "stdout",
     "output_type": "stream",
     "text": [
      "Not working (NaN values): chest,BVP\n",
      "Not working (NaN values): chest,TEMP\n",
      "Not working (NaN values): wrist,ECG\n",
      "Not working (NaN values): wrist,Resp\n"
     ]
    }
   ],
   "source": [
    "signal = pd.DataFrame(data['signal'])\n",
    "signal = signal.drop(index=['Temp', 'EMG']) # Supprimer les données inutiles d'après la doc\n",
    "\n",
    "signalDfs = []\n",
    "for key in signal.keys():\n",
    "    for index in list(signal.index.values):\n",
    "        try:\n",
    "            d = signal.at[index, key]\n",
    "            if key == 'chest':\n",
    "                df = pd.DataFrame(d[::175])\n",
    "            elif key == 'wrist' and index == 'ACC':\n",
    "                df = pd.DataFrame(d[::8])\n",
    "            elif key == 'wrist' and index == 'BVP':\n",
    "                df = pd.DataFrame(d[::16])\n",
    "            else:\n",
    "                df = pd.DataFrame(d)\n",
    "            for k in df.keys():\n",
    "                df = df.rename(columns={k: key + index + str(k)})\n",
    "            signalDfs.append(df)\n",
    "        except Exception as e:\n",
    "            print(\"Not working (NaN values): \"+key+\",\"+index)\n",
    "\n",
    "# Pour fusionner tous les dataframes de signal\n",
    "signalDf = pd.concat(signalDfs, axis=1)\n",
    "# Pour enlever la colonne chestEDA0 qui est inutile d'après la documentation\n",
    "signalDf = signalDf.drop(columns='chestEDA0')"
   ]
  },
  {
   "cell_type": "markdown",
   "metadata": {},
   "source": [
    "## 2.2) Fusionner les dataframes d'un patient"
   ]
  },
  {
   "cell_type": "code",
   "execution_count": 21,
   "metadata": {},
   "outputs": [
    {
     "data": {
      "text/html": [
       "<div>\n",
       "<style scoped>\n",
       "    .dataframe tbody tr th:only-of-type {\n",
       "        vertical-align: middle;\n",
       "    }\n",
       "\n",
       "    .dataframe tbody tr th {\n",
       "        vertical-align: top;\n",
       "    }\n",
       "\n",
       "    .dataframe thead th {\n",
       "        text-align: right;\n",
       "    }\n",
       "</style>\n",
       "<table border=\"1\" class=\"dataframe\">\n",
       "  <thead>\n",
       "    <tr style=\"text-align: right;\">\n",
       "      <th></th>\n",
       "      <th>rpeakcount</th>\n",
       "      <th>label</th>\n",
       "      <th>activity</th>\n",
       "      <th>weight</th>\n",
       "      <th>male</th>\n",
       "      <th>age</th>\n",
       "      <th>height</th>\n",
       "      <th>skin</th>\n",
       "      <th>sport</th>\n",
       "      <th>subject</th>\n",
       "      <th>...</th>\n",
       "      <th>chestACC1</th>\n",
       "      <th>chestACC2</th>\n",
       "      <th>chestECG0</th>\n",
       "      <th>chestResp0</th>\n",
       "      <th>wristACC0</th>\n",
       "      <th>wristACC1</th>\n",
       "      <th>wristACC2</th>\n",
       "      <th>wristEDA0</th>\n",
       "      <th>wristBVP0</th>\n",
       "      <th>wristTEMP0</th>\n",
       "    </tr>\n",
       "  </thead>\n",
       "  <tbody>\n",
       "    <tr>\n",
       "      <th>28403</th>\n",
       "      <td>1.0</td>\n",
       "      <td>89.151603</td>\n",
       "      <td>7.0</td>\n",
       "      <td>78.0</td>\n",
       "      <td>1</td>\n",
       "      <td>34</td>\n",
       "      <td>182.0</td>\n",
       "      <td>3</td>\n",
       "      <td>6</td>\n",
       "      <td>S1</td>\n",
       "      <td>...</td>\n",
       "      <td>-0.1510</td>\n",
       "      <td>-0.1666</td>\n",
       "      <td>-0.177200</td>\n",
       "      <td>1.966858</td>\n",
       "      <td>-0.265625</td>\n",
       "      <td>0.406250</td>\n",
       "      <td>0.156250</td>\n",
       "      <td>4.219437</td>\n",
       "      <td>27.60</td>\n",
       "      <td>33.93</td>\n",
       "    </tr>\n",
       "    <tr>\n",
       "      <th>6074</th>\n",
       "      <td>0.0</td>\n",
       "      <td>77.040386</td>\n",
       "      <td>3.0</td>\n",
       "      <td>78.0</td>\n",
       "      <td>1</td>\n",
       "      <td>34</td>\n",
       "      <td>182.0</td>\n",
       "      <td>3</td>\n",
       "      <td>6</td>\n",
       "      <td>S1</td>\n",
       "      <td>...</td>\n",
       "      <td>-0.2498</td>\n",
       "      <td>-0.0388</td>\n",
       "      <td>-0.144333</td>\n",
       "      <td>-3.703308</td>\n",
       "      <td>-0.953125</td>\n",
       "      <td>0.468750</td>\n",
       "      <td>-0.109375</td>\n",
       "      <td>9.779117</td>\n",
       "      <td>-30.28</td>\n",
       "      <td>30.51</td>\n",
       "    </tr>\n",
       "    <tr>\n",
       "      <th>28768</th>\n",
       "      <td>1.0</td>\n",
       "      <td>80.534873</td>\n",
       "      <td>7.0</td>\n",
       "      <td>78.0</td>\n",
       "      <td>1</td>\n",
       "      <td>34</td>\n",
       "      <td>182.0</td>\n",
       "      <td>3</td>\n",
       "      <td>6</td>\n",
       "      <td>S1</td>\n",
       "      <td>...</td>\n",
       "      <td>0.1522</td>\n",
       "      <td>-0.4802</td>\n",
       "      <td>0.256577</td>\n",
       "      <td>-0.798035</td>\n",
       "      <td>-0.359375</td>\n",
       "      <td>1.765625</td>\n",
       "      <td>0.562500</td>\n",
       "      <td>4.166908</td>\n",
       "      <td>26.75</td>\n",
       "      <td>33.66</td>\n",
       "    </tr>\n",
       "    <tr>\n",
       "      <th>36767</th>\n",
       "      <td>0.0</td>\n",
       "      <td>63.734886</td>\n",
       "      <td>0.0</td>\n",
       "      <td>78.0</td>\n",
       "      <td>1</td>\n",
       "      <td>34</td>\n",
       "      <td>182.0</td>\n",
       "      <td>3</td>\n",
       "      <td>6</td>\n",
       "      <td>S1</td>\n",
       "      <td>...</td>\n",
       "      <td>-0.0740</td>\n",
       "      <td>-0.6198</td>\n",
       "      <td>-0.114395</td>\n",
       "      <td>6.517029</td>\n",
       "      <td>-0.531250</td>\n",
       "      <td>0.000000</td>\n",
       "      <td>0.859375</td>\n",
       "      <td>2.692675</td>\n",
       "      <td>2.94</td>\n",
       "      <td>34.37</td>\n",
       "    </tr>\n",
       "    <tr>\n",
       "      <th>35004</th>\n",
       "      <td>0.0</td>\n",
       "      <td>71.482331</td>\n",
       "      <td>8.0</td>\n",
       "      <td>78.0</td>\n",
       "      <td>1</td>\n",
       "      <td>34</td>\n",
       "      <td>182.0</td>\n",
       "      <td>3</td>\n",
       "      <td>6</td>\n",
       "      <td>S1</td>\n",
       "      <td>...</td>\n",
       "      <td>-0.0822</td>\n",
       "      <td>-0.5142</td>\n",
       "      <td>-0.105835</td>\n",
       "      <td>-3.324890</td>\n",
       "      <td>-0.359375</td>\n",
       "      <td>-0.015625</td>\n",
       "      <td>0.953125</td>\n",
       "      <td>2.385255</td>\n",
       "      <td>43.00</td>\n",
       "      <td>34.33</td>\n",
       "    </tr>\n",
       "  </tbody>\n",
       "</table>\n",
       "<p>5 rows × 21 columns</p>\n",
       "</div>"
      ],
      "text/plain": [
       "       rpeakcount      label  activity  weight  male  age  height  skin  \\\n",
       "28403         1.0  89.151603       7.0    78.0     1   34   182.0     3   \n",
       "6074          0.0  77.040386       3.0    78.0     1   34   182.0     3   \n",
       "28768         1.0  80.534873       7.0    78.0     1   34   182.0     3   \n",
       "36767         0.0  63.734886       0.0    78.0     1   34   182.0     3   \n",
       "35004         0.0  71.482331       8.0    78.0     1   34   182.0     3   \n",
       "\n",
       "       sport subject  ...  chestACC1  chestACC2  chestECG0  chestResp0  \\\n",
       "28403      6      S1  ...    -0.1510    -0.1666  -0.177200    1.966858   \n",
       "6074       6      S1  ...    -0.2498    -0.0388  -0.144333   -3.703308   \n",
       "28768      6      S1  ...     0.1522    -0.4802   0.256577   -0.798035   \n",
       "36767      6      S1  ...    -0.0740    -0.6198  -0.114395    6.517029   \n",
       "35004      6      S1  ...    -0.0822    -0.5142  -0.105835   -3.324890   \n",
       "\n",
       "       wristACC0  wristACC1  wristACC2  wristEDA0  wristBVP0  wristTEMP0  \n",
       "28403  -0.265625   0.406250   0.156250   4.219437      27.60       33.93  \n",
       "6074   -0.953125   0.468750  -0.109375   9.779117     -30.28       30.51  \n",
       "28768  -0.359375   1.765625   0.562500   4.166908      26.75       33.66  \n",
       "36767  -0.531250   0.000000   0.859375   2.692675       2.94       34.37  \n",
       "35004  -0.359375  -0.015625   0.953125   2.385255      43.00       34.33  \n",
       "\n",
       "[5 rows x 21 columns]"
      ]
     },
     "execution_count": 21,
     "metadata": {},
     "output_type": "execute_result"
    }
   ],
   "source": [
    "dataframe = pd.concat([dataDf, signalDf], axis=1)\n",
    "# Pour retirer les lignes où au moins une des colonnes est vide\n",
    "dataframe = dataframe.dropna()\n",
    "dataframe.sample(5)"
   ]
  },
  {
   "cell_type": "markdown",
   "metadata": {},
   "source": [
    "## 2.3) Fusionner les données de tous les patients dans un seul dataframe\n",
    "\n",
    "### Faire une fonction pour créer le dataframe d'un client\n",
    "\n",
    "On va mettre le code effectué en 2.1) et 2.2) dans une fonction qui nous retournera le dataframe d'un patient"
   ]
  },
  {
   "cell_type": "code",
   "execution_count": 22,
   "metadata": {},
   "outputs": [],
   "source": [
    "def createPatientDataframe(data):\n",
    "    dfs  = []\n",
    "    pbms = []\n",
    "    oks  = []\n",
    "    for k in data.keys():\n",
    "        if k != \"signal\":\n",
    "            try:\n",
    "                if k == 'activity':\n",
    "                    df = pd.DataFrame(data[k], columns=['activity']) \n",
    "                    dfs.append(df)\n",
    "                    oks.append(k)\n",
    "                elif k == 'subject':\n",
    "                    df = pd.DataFrame([data[k]] * len(data['activity']), columns=['subject'])\n",
    "                    dfs.append(df)\n",
    "                    oks.append(k)\n",
    "                elif k == 'questionnaire':\n",
    "                    for key in data['questionnaire'].keys():\n",
    "                        if key == 'Gender':\n",
    "                            if data[k][key] == ' m':\n",
    "                                df = pd.DataFrame([1] * len(data['activity']), columns=['male'])\n",
    "                            if data[k][key] == ' f':\n",
    "                                df = pd.DataFrame([0] * len(data['activity']), columns=['male'])\n",
    "                        else:\n",
    "                            df = pd.DataFrame([data[k][key]] * len(data['activity']), columns=[key.lower()])\n",
    "                        dfs.append(df)\n",
    "                    oks.append(k)\n",
    "                elif k == 'label':\n",
    "                    lab = []\n",
    "                    count = 0\n",
    "                    for i in range(0,len(data[k])):\n",
    "                        while(count != 8):\n",
    "                            count = count+1\n",
    "                            lab.append(data[k][i])\n",
    "                        count = 0\n",
    "                        if i == len(data[k])-1:\n",
    "                            while(count != 8*3):\n",
    "                                count = count+1\n",
    "                                lab.append(data[k][i])\n",
    "                    df = pd.DataFrame({k : lab })\n",
    "                    dfs.append(df)\n",
    "                    oks.append(k)\n",
    "                elif k == 'rpeaks':\n",
    "                    nbitem = 0\n",
    "                    rpeaknb = []\n",
    "                    count = 0\n",
    "                    for i in range(0, int(max(data[k])/175)+1):\n",
    "                        for item in data[k][nbitem:]:\n",
    "                            if item >= i*175 and item < (i+1)*175:\n",
    "                                count = count + 1\n",
    "                                nbitem = nbitem+1\n",
    "                            else: break\n",
    "                        rpeaknb.append(count)\n",
    "                        count = 0\n",
    "                    df = pd.DataFrame({'rpeakcount' : rpeaknb })\n",
    "                    dfs.append(df)\n",
    "                    oks.append(k)\n",
    "                else:\n",
    "                    df = pd.DataFrame({k : data[k] }) \n",
    "                    dfs.append(df)\n",
    "                    oks.append(k)\n",
    "            except Exception as e:\n",
    "                pbms.append(k + str(e))\n",
    "    print(f\"clefs ok = {oks}\")\n",
    "    print(f\"clefs avec un pbms = {pbms}\")\n",
    "\n",
    "    # Pour fusionner tous les dataframes\n",
    "    dataDf = pd.concat(dfs, axis=1)\n",
    "    \n",
    "    signal = pd.DataFrame(data['signal'])\n",
    "    signal = signal.drop(index=['Temp', 'EMG']) # Supprimer les données inutiles d'après la doc\n",
    "    signalDfs = []\n",
    "    for key in signal.keys():\n",
    "        for index in list(signal.index.values):\n",
    "            try:\n",
    "                d = signal.at[index, key]\n",
    "                if key == 'chest':\n",
    "                    df = pd.DataFrame(d[::175])\n",
    "                elif key == 'wrist' and index == 'ACC':\n",
    "                    df = pd.DataFrame(d[::8])\n",
    "                elif key == 'wrist' and index == 'BVP':\n",
    "                    df = pd.DataFrame(d[::16])\n",
    "                else:\n",
    "                    df = pd.DataFrame(d)\n",
    "                for k in df.keys():\n",
    "                    df = df.rename(columns={k: key + index + str(k)})\n",
    "                signalDfs.append(df)\n",
    "            except Exception as e:\n",
    "                print()\n",
    "    # Pour fusionner tous les dataframes de signal\n",
    "    signalDf = pd.concat(signalDfs, axis=1)\n",
    "    # Pour enlever la colonne chestEDA0 qui est inutile d'après la documentation\n",
    "    signalDf = signalDf.drop(columns='chestEDA0')\n",
    "    dataframe = pd.concat([dataDf, signalDf], axis=1)\n",
    "    # Pour retirer les lignes où au moins une des colonnes est vide\n",
    "    dataframe = dataframe.dropna()\n",
    "    return dataframe"
   ]
  },
  {
   "cell_type": "markdown",
   "metadata": {},
   "source": [
    "### Mettre les données de tous les patients dans un seul dataframe\n",
    "\n",
    "On va faire une boucle pour pouvoir tout ajouter dans le même dataframe."
   ]
  },
  {
   "cell_type": "code",
   "execution_count": 23,
   "metadata": {},
   "outputs": [
    {
     "name": "stdout",
     "output_type": "stream",
     "text": [
      "Opening : ./PPG_FieldStudy/S1/S1.pkl\n",
      "clefs ok = ['rpeaks', 'label', 'activity', 'questionnaire', 'subject']\n",
      "clefs avec un pbms = []\n",
      "\n",
      "\n",
      "\n",
      "\n",
      "Opening : ./PPG_FieldStudy/S2/S2.pkl\n",
      "clefs ok = ['rpeaks', 'label', 'activity', 'questionnaire', 'subject']\n",
      "clefs avec un pbms = []\n",
      "\n",
      "\n",
      "\n",
      "\n",
      "Opening : ./PPG_FieldStudy/S3/S3.pkl\n",
      "clefs ok = ['rpeaks', 'label', 'activity', 'questionnaire', 'subject']\n",
      "clefs avec un pbms = []\n",
      "\n",
      "\n",
      "\n",
      "\n",
      "Opening : ./PPG_FieldStudy/S4/S4.pkl\n",
      "clefs ok = ['rpeaks', 'label', 'activity', 'questionnaire', 'subject']\n",
      "clefs avec un pbms = []\n",
      "\n",
      "\n",
      "\n",
      "\n",
      "Opening : ./PPG_FieldStudy/S5/S5.pkl\n",
      "clefs ok = ['rpeaks', 'label', 'activity', 'questionnaire', 'subject']\n",
      "clefs avec un pbms = []\n",
      "\n",
      "\n",
      "\n",
      "\n",
      "Opening : ./PPG_FieldStudy/S6/S6.pkl\n",
      "clefs ok = ['rpeaks', 'label', 'activity', 'questionnaire', 'subject']\n",
      "clefs avec un pbms = []\n",
      "\n",
      "\n",
      "\n",
      "\n",
      "Opening : ./PPG_FieldStudy/S7/S7.pkl\n",
      "clefs ok = ['rpeaks', 'label', 'activity', 'questionnaire', 'subject']\n",
      "clefs avec un pbms = []\n",
      "\n",
      "\n",
      "\n",
      "\n",
      "Opening : ./PPG_FieldStudy/S8/S8.pkl\n",
      "clefs ok = ['rpeaks', 'label', 'activity', 'questionnaire', 'subject']\n",
      "clefs avec un pbms = []\n",
      "\n",
      "\n",
      "\n",
      "\n",
      "Opening : ./PPG_FieldStudy/S9/S9.pkl\n",
      "clefs ok = ['rpeaks', 'label', 'activity', 'questionnaire', 'subject']\n",
      "clefs avec un pbms = []\n",
      "\n",
      "\n",
      "\n",
      "\n",
      "Opening : ./PPG_FieldStudy/S10/S10.pkl\n",
      "clefs ok = ['rpeaks', 'label', 'activity', 'questionnaire', 'subject']\n",
      "clefs avec un pbms = []\n",
      "\n",
      "\n",
      "\n",
      "\n",
      "Opening : ./PPG_FieldStudy/S11/S11.pkl\n",
      "clefs ok = ['rpeaks', 'label', 'activity', 'questionnaire', 'subject']\n",
      "clefs avec un pbms = []\n",
      "\n",
      "\n",
      "\n",
      "\n",
      "Opening : ./PPG_FieldStudy/S12/S12.pkl\n",
      "clefs ok = ['rpeaks', 'label', 'activity', 'questionnaire', 'subject']\n",
      "clefs avec un pbms = []\n",
      "\n",
      "\n",
      "\n",
      "\n",
      "Opening : ./PPG_FieldStudy/S13/S13.pkl\n",
      "clefs ok = ['rpeaks', 'label', 'activity', 'questionnaire', 'subject']\n",
      "clefs avec un pbms = []\n",
      "\n",
      "\n",
      "\n",
      "\n",
      "Opening : ./PPG_FieldStudy/S14/S14.pkl\n",
      "clefs ok = ['rpeaks', 'label', 'activity', 'questionnaire', 'subject']\n",
      "clefs avec un pbms = []\n",
      "\n",
      "\n",
      "\n",
      "\n",
      "Opening : ./PPG_FieldStudy/S15/S15.pkl\n",
      "clefs ok = ['rpeaks', 'label', 'activity', 'questionnaire', 'subject']\n",
      "clefs avec un pbms = []\n",
      "\n",
      "\n",
      "\n",
      "\n"
     ]
    }
   ],
   "source": [
    "datasList = []\n",
    "for i in range(1,16):\n",
    "    path = \"./PPG_FieldStudy/S\"+str(i) + \"/S\"+str(i)+\".pkl\"\n",
    "    print(\"Opening : \"+path)\n",
    "    with open(path, \"rb\") as f:\n",
    "        data = pickle.load(f, encoding=\"latin-1\")\n",
    "    dataframe = createPatientDataframe(data)\n",
    "    datasList.append(dataframe)\n"
   ]
  },
  {
   "cell_type": "code",
   "execution_count": 24,
   "metadata": {},
   "outputs": [],
   "source": [
    "datas = pd.concat(datasList, axis=0)"
   ]
  },
  {
   "cell_type": "code",
   "execution_count": 25,
   "metadata": {},
   "outputs": [
    {
     "data": {
      "text/html": [
       "<div>\n",
       "<style scoped>\n",
       "    .dataframe tbody tr th:only-of-type {\n",
       "        vertical-align: middle;\n",
       "    }\n",
       "\n",
       "    .dataframe tbody tr th {\n",
       "        vertical-align: top;\n",
       "    }\n",
       "\n",
       "    .dataframe thead th {\n",
       "        text-align: right;\n",
       "    }\n",
       "</style>\n",
       "<table border=\"1\" class=\"dataframe\">\n",
       "  <thead>\n",
       "    <tr style=\"text-align: right;\">\n",
       "      <th></th>\n",
       "      <th>rpeakcount</th>\n",
       "      <th>label</th>\n",
       "      <th>activity</th>\n",
       "      <th>weight</th>\n",
       "      <th>male</th>\n",
       "      <th>age</th>\n",
       "      <th>height</th>\n",
       "      <th>skin</th>\n",
       "      <th>sport</th>\n",
       "      <th>subject</th>\n",
       "      <th>...</th>\n",
       "      <th>chestACC1</th>\n",
       "      <th>chestACC2</th>\n",
       "      <th>chestECG0</th>\n",
       "      <th>chestResp0</th>\n",
       "      <th>wristACC0</th>\n",
       "      <th>wristACC1</th>\n",
       "      <th>wristACC2</th>\n",
       "      <th>wristEDA0</th>\n",
       "      <th>wristBVP0</th>\n",
       "      <th>wristTEMP0</th>\n",
       "    </tr>\n",
       "  </thead>\n",
       "  <tbody>\n",
       "    <tr>\n",
       "      <th>8146</th>\n",
       "      <td>1.0</td>\n",
       "      <td>81.789569</td>\n",
       "      <td>0.0</td>\n",
       "      <td>60.0</td>\n",
       "      <td>0</td>\n",
       "      <td>28</td>\n",
       "      <td>167.0</td>\n",
       "      <td>4</td>\n",
       "      <td>5</td>\n",
       "      <td>S9</td>\n",
       "      <td>...</td>\n",
       "      <td>0.0826</td>\n",
       "      <td>-0.1070</td>\n",
       "      <td>-0.088394</td>\n",
       "      <td>-2.323914</td>\n",
       "      <td>-0.609375</td>\n",
       "      <td>0.750000</td>\n",
       "      <td>0.390625</td>\n",
       "      <td>2.359281</td>\n",
       "      <td>2.11</td>\n",
       "      <td>31.49</td>\n",
       "    </tr>\n",
       "    <tr>\n",
       "      <th>11717</th>\n",
       "      <td>0.0</td>\n",
       "      <td>146.911673</td>\n",
       "      <td>0.0</td>\n",
       "      <td>70.0</td>\n",
       "      <td>0</td>\n",
       "      <td>21</td>\n",
       "      <td>180.0</td>\n",
       "      <td>3</td>\n",
       "      <td>4</td>\n",
       "      <td>S5</td>\n",
       "      <td>...</td>\n",
       "      <td>-0.2090</td>\n",
       "      <td>-0.1998</td>\n",
       "      <td>-0.494843</td>\n",
       "      <td>12.940979</td>\n",
       "      <td>-0.796875</td>\n",
       "      <td>-0.718750</td>\n",
       "      <td>-0.078125</td>\n",
       "      <td>14.835396</td>\n",
       "      <td>105.86</td>\n",
       "      <td>34.84</td>\n",
       "    </tr>\n",
       "    <tr>\n",
       "      <th>31644</th>\n",
       "      <td>1.0</td>\n",
       "      <td>76.204136</td>\n",
       "      <td>8.0</td>\n",
       "      <td>78.0</td>\n",
       "      <td>1</td>\n",
       "      <td>34</td>\n",
       "      <td>182.0</td>\n",
       "      <td>3</td>\n",
       "      <td>6</td>\n",
       "      <td>S1</td>\n",
       "      <td>...</td>\n",
       "      <td>-0.1116</td>\n",
       "      <td>-0.5410</td>\n",
       "      <td>0.033188</td>\n",
       "      <td>-2.127075</td>\n",
       "      <td>-0.375000</td>\n",
       "      <td>-0.015625</td>\n",
       "      <td>0.937500</td>\n",
       "      <td>4.224561</td>\n",
       "      <td>33.62</td>\n",
       "      <td>33.84</td>\n",
       "    </tr>\n",
       "    <tr>\n",
       "      <th>23631</th>\n",
       "      <td>0.0</td>\n",
       "      <td>92.652416</td>\n",
       "      <td>7.0</td>\n",
       "      <td>79.0</td>\n",
       "      <td>1</td>\n",
       "      <td>28</td>\n",
       "      <td>183.0</td>\n",
       "      <td>2</td>\n",
       "      <td>5</td>\n",
       "      <td>S15</td>\n",
       "      <td>...</td>\n",
       "      <td>0.0418</td>\n",
       "      <td>-0.1050</td>\n",
       "      <td>-1.499359</td>\n",
       "      <td>-1.673889</td>\n",
       "      <td>-0.296875</td>\n",
       "      <td>-0.312500</td>\n",
       "      <td>0.390625</td>\n",
       "      <td>5.954992</td>\n",
       "      <td>17.72</td>\n",
       "      <td>33.71</td>\n",
       "    </tr>\n",
       "    <tr>\n",
       "      <th>20548</th>\n",
       "      <td>0.0</td>\n",
       "      <td>91.208212</td>\n",
       "      <td>6.0</td>\n",
       "      <td>62.0</td>\n",
       "      <td>0</td>\n",
       "      <td>24</td>\n",
       "      <td>168.0</td>\n",
       "      <td>3</td>\n",
       "      <td>5</td>\n",
       "      <td>S11</td>\n",
       "      <td>...</td>\n",
       "      <td>-0.0402</td>\n",
       "      <td>-0.1680</td>\n",
       "      <td>-0.052917</td>\n",
       "      <td>-1.176453</td>\n",
       "      <td>-0.765625</td>\n",
       "      <td>-0.609375</td>\n",
       "      <td>-0.250000</td>\n",
       "      <td>1.776238</td>\n",
       "      <td>17.96</td>\n",
       "      <td>35.00</td>\n",
       "    </tr>\n",
       "  </tbody>\n",
       "</table>\n",
       "<p>5 rows × 21 columns</p>\n",
       "</div>"
      ],
      "text/plain": [
       "       rpeakcount       label  activity  weight  male  age  height  skin  \\\n",
       "8146          1.0   81.789569       0.0    60.0     0   28   167.0     4   \n",
       "11717         0.0  146.911673       0.0    70.0     0   21   180.0     3   \n",
       "31644         1.0   76.204136       8.0    78.0     1   34   182.0     3   \n",
       "23631         0.0   92.652416       7.0    79.0     1   28   183.0     2   \n",
       "20548         0.0   91.208212       6.0    62.0     0   24   168.0     3   \n",
       "\n",
       "       sport subject  ...  chestACC1  chestACC2  chestECG0  chestResp0  \\\n",
       "8146       5      S9  ...     0.0826    -0.1070  -0.088394   -2.323914   \n",
       "11717      4      S5  ...    -0.2090    -0.1998  -0.494843   12.940979   \n",
       "31644      6      S1  ...    -0.1116    -0.5410   0.033188   -2.127075   \n",
       "23631      5     S15  ...     0.0418    -0.1050  -1.499359   -1.673889   \n",
       "20548      5     S11  ...    -0.0402    -0.1680  -0.052917   -1.176453   \n",
       "\n",
       "       wristACC0  wristACC1  wristACC2  wristEDA0  wristBVP0  wristTEMP0  \n",
       "8146   -0.609375   0.750000   0.390625   2.359281       2.11       31.49  \n",
       "11717  -0.796875  -0.718750  -0.078125  14.835396     105.86       34.84  \n",
       "31644  -0.375000  -0.015625   0.937500   4.224561      33.62       33.84  \n",
       "23631  -0.296875  -0.312500   0.390625   5.954992      17.72       33.71  \n",
       "20548  -0.765625  -0.609375  -0.250000   1.776238      17.96       35.00  \n",
       "\n",
       "[5 rows x 21 columns]"
      ]
     },
     "execution_count": 25,
     "metadata": {},
     "output_type": "execute_result"
    }
   ],
   "source": [
    "datas.sample(5)"
   ]
  },
  {
   "cell_type": "markdown",
   "metadata": {},
   "source": [
    "# 3) Visualisation des données"
   ]
  },
  {
   "cell_type": "code",
   "execution_count": 26,
   "metadata": {},
   "outputs": [],
   "source": [
    "import matplotlib.pyplot as plt\n",
    "import seaborn as sns"
   ]
  },
  {
   "cell_type": "code",
   "execution_count": 27,
   "metadata": {},
   "outputs": [
    {
     "data": {
      "text/plain": [
       "<matplotlib.axes._subplots.AxesSubplot at 0x1fe1ffbfa90>"
      ]
     },
     "execution_count": 27,
     "metadata": {},
     "output_type": "execute_result"
    },
    {
     "data": {
      "image/png": "[encoded data removed]",
      "text/plain": [
       "<Figure size 432x288 with 1 Axes>"
      ]
     },
     "metadata": {
      "needs_background": "light"
     },
     "output_type": "display_data"
    }
   ],
   "source": [
    "sns.boxplot(x=\"activity\", y=\"label\", data=datas)"
   ]
  },
  {
   "cell_type": "code",
   "execution_count": 28,
   "metadata": {},
   "outputs": [
    {
     "data": {
      "text/plain": [
       "<matplotlib.axes._subplots.AxesSubplot at 0x1fe20948080>"
      ]
     },
     "execution_count": 28,
     "metadata": {},
     "output_type": "execute_result"
    },
    {
     "data": {
      "image/png": "[encoded data removed]",
      "text/plain": [
       "<Figure size 432x288 with 1 Axes>"
      ]
     },
     "metadata": {
      "needs_background": "light"
     },
     "output_type": "display_data"
    }
   ],
   "source": [
    "sns.boxplot(x=\"activity\", y=\"weight\", data=datas)"
   ]
  },
  {
   "cell_type": "code",
   "execution_count": 29,
   "metadata": {},
   "outputs": [
    {
     "data": {
      "text/plain": [
       "<matplotlib.axes._subplots.AxesSubplot at 0x1fe20d05ac8>"
      ]
     },
     "execution_count": 29,
     "metadata": {},
     "output_type": "execute_result"
    },
    {
     "data": {
      "image/png": "[encoded data removed]",
      "text/plain": [
       "<Figure size 432x288 with 1 Axes>"
      ]
     },
     "metadata": {
      "needs_background": "light"
     },
     "output_type": "display_data"
    }
   ],
   "source": [
    "sns.boxplot(x=\"activity\", y=\"wristACC0\", data=datas)"
   ]
  },
  {
   "cell_type": "code",
   "execution_count": 30,
   "metadata": {},
   "outputs": [
    {
     "data": {
      "text/plain": [
       "<matplotlib.axes._subplots.AxesSubplot at 0x1fe20ddf438>"
      ]
     },
     "execution_count": 30,
     "metadata": {},
     "output_type": "execute_result"
    },
    {
     "data": {
      "image/png": "[encoded data removed]",
      "text/plain": [
       "<Figure size 432x288 with 1 Axes>"
      ]
     },
     "metadata": {
      "needs_background": "light"
     },
     "output_type": "display_data"
    }
   ],
   "source": [
    "sns.boxplot(x=\"activity\", y=\"wristACC1\", data=datas)"
   ]
  },
  {
   "cell_type": "code",
   "execution_count": 31,
   "metadata": {},
   "outputs": [
    {
     "data": {
      "text/plain": [
       "<matplotlib.axes._subplots.AxesSubplot at 0x1fe20ecaa90>"
      ]
     },
     "execution_count": 31,
     "metadata": {},
     "output_type": "execute_result"
    },
    {
     "data": {
      "image/png": "[encoded data removed]",
      "text/plain": [
       "<Figure size 432x288 with 1 Axes>"
      ]
     },
     "metadata": {
      "needs_background": "light"
     },
     "output_type": "display_data"
    }
   ],
   "source": [
    "sns.boxplot(x=\"activity\", y=\"wristACC2\", data=datas)"
   ]
  },
  {
   "cell_type": "code",
   "execution_count": 32,
   "metadata": {},
   "outputs": [
    {
     "data": {
      "text/plain": [
       "<matplotlib.axes._subplots.AxesSubplot at 0x1fe21030c50>"
      ]
     },
     "execution_count": 32,
     "metadata": {},
     "output_type": "execute_result"
    },
    {
     "data": {
      "image/png": "[encoded data removed]",
      "text/plain": [
       "<Figure size 432x288 with 1 Axes>"
      ]
     },
     "metadata": {
      "needs_background": "light"
     },
     "output_type": "display_data"
    }
   ],
   "source": [
    "sns.boxplot(x=\"activity\", y=\"wristTEMP0\", data=datas)"
   ]
  },
  {
   "cell_type": "markdown",
   "metadata": {},
   "source": [
    "# 4) Modèle de prédiction"
   ]
  },
  {
   "cell_type": "markdown",
   "metadata": {},
   "source": [
    "## 4.1) Splitter les données en train et test set\n",
    "\n",
    "On utilise le module train_test_split de sklearn pour séparer les données en train et test"
   ]
  },
  {
   "cell_type": "code",
   "execution_count": 33,
   "metadata": {},
   "outputs": [],
   "source": [
    "from sklearn.model_selection import train_test_split\n",
    "X_all = datas.drop(['activity', 'subject'], axis=1)\n",
    "y_all = datas['activity']\n",
    "num_test = 0.20\n",
    "X_train, X_test, y_train, y_test = train_test_split(X_all, y_all, test_size=num_test, random_state=123)"
   ]
  },
  {
   "cell_type": "markdown",
   "metadata": {},
   "source": [
    "## 4.2) Algorithmes de prédiction\n",
    "### 4.2.1) Random Forest Classifier\n",
    "#### Entraîner le modèle avec le train set"
   ]
  },
  {
   "cell_type": "code",
   "execution_count": 34,
   "metadata": {},
   "outputs": [],
   "source": [
    "from sklearn.ensemble import RandomForestClassifier\n",
    "\n",
    "rf = RandomForestClassifier(n_estimators = 100, random_state = 54)\n",
    "rf.fit(X_train, y_train);\n",
    "predictionsrf = rf.predict(X_test)"
   ]
  },
  {
   "cell_type": "markdown",
   "metadata": {},
   "source": [
    "#### Accuracy du modèle"
   ]
  },
  {
   "cell_type": "code",
   "execution_count": 35,
   "metadata": {},
   "outputs": [
    {
     "name": "stdout",
     "output_type": "stream",
     "text": [
      "0.9867066978163073\n"
     ]
    }
   ],
   "source": [
    "from sklearn.metrics import accuracy_score\n",
    "\n",
    "print(accuracy_score(y_test, predictionsrf))"
   ]
  },
  {
   "cell_type": "markdown",
   "metadata": {},
   "source": [
    "#### Features importantes"
   ]
  },
  {
   "cell_type": "code",
   "execution_count": 36,
   "metadata": {},
   "outputs": [
    {
     "data": {
      "text/plain": [
       "<matplotlib.axes._subplots.AxesSubplot at 0x1fe2a8b1e48>"
      ]
     },
     "execution_count": 36,
     "metadata": {},
     "output_type": "execute_result"
    },
    {
     "data": {
      "image/png": "[encoded data removed]",
      "text/plain": [
       "<Figure size 432x288 with 1 Axes>"
      ]
     },
     "metadata": {
      "needs_background": "light"
     },
     "output_type": "display_data"
    }
   ],
   "source": [
    "feat_importances = pd.Series(rf.feature_importances_, index=X_test.columns)\n",
    "feat_importances.nlargest(19).plot(kind='barh')"
   ]
  },
  {
   "cell_type": "markdown",
   "metadata": {},
   "source": [
    "#### Enregistrer le modèle dans 'rf_model.sav'"
   ]
  },
  {
   "cell_type": "code",
   "execution_count": 37,
   "metadata": {},
   "outputs": [],
   "source": [
    "import pickle\n",
    "\n",
    "filename = 'rf_model.sav'\n",
    "pickle.dump(rf, open(filename, 'wb'))"
   ]
  },
  {
   "cell_type": "markdown",
   "metadata": {},
   "source": [
    "#### Le charger dans une variable"
   ]
  },
  {
   "cell_type": "code",
   "execution_count": 38,
   "metadata": {},
   "outputs": [
    {
     "name": "stdout",
     "output_type": "stream",
     "text": [
      "0.9867066978163073\n"
     ]
    }
   ],
   "source": [
    "filename = 'rf_model.sav'\n",
    "rf = pickle.load(open(filename, 'rb'))\n",
    "result = rf.score(X_test, y_test)\n",
    "print(result)"
   ]
  },
  {
   "cell_type": "markdown",
   "metadata": {},
   "source": [
    "### 4.2.2) Naive Bayes"
   ]
  },
  {
   "cell_type": "markdown",
   "metadata": {},
   "source": [
    "#### Entraîner le modèle avec le train set"
   ]
  },
  {
   "cell_type": "code",
   "execution_count": 39,
   "metadata": {},
   "outputs": [],
   "source": [
    "from sklearn.naive_bayes import GaussianNB\n",
    "\n",
    "nb = GaussianNB()\n",
    "nb.fit(X_train, y_train)\n",
    "predictionsnb = nb.predict(X_test)"
   ]
  },
  {
   "cell_type": "markdown",
   "metadata": {},
   "source": [
    "#### Accuracy du modèle"
   ]
  },
  {
   "cell_type": "code",
   "execution_count": 40,
   "metadata": {},
   "outputs": [
    {
     "name": "stdout",
     "output_type": "stream",
     "text": [
      "0.5690247716872936\n"
     ]
    }
   ],
   "source": [
    "from sklearn.metrics import accuracy_score\n",
    "\n",
    "print(accuracy_score(y_test, predictionsnb))"
   ]
  },
  {
   "cell_type": "markdown",
   "metadata": {},
   "source": [
    "#### Enregistrer le modèle dans 'nb_model.sav'"
   ]
  },
  {
   "cell_type": "code",
   "execution_count": 41,
   "metadata": {},
   "outputs": [],
   "source": [
    "import pickle\n",
    "\n",
    "filename = 'nb_model.sav'\n",
    "pickle.dump(nb, open(filename, 'wb'))"
   ]
  },
  {
   "cell_type": "markdown",
   "metadata": {},
   "source": [
    "### 4.2.3) Nearest neighbours"
   ]
  },
  {
   "cell_type": "markdown",
   "metadata": {},
   "source": [
    "#### Entraîner le modèle avec le train set"
   ]
  },
  {
   "cell_type": "code",
   "execution_count": 42,
   "metadata": {},
   "outputs": [],
   "source": [
    "from sklearn.neighbors import KNeighborsClassifier\n",
    "\n",
    "kn = KNeighborsClassifier(3)\n",
    "kn.fit(X_train, y_train)\n",
    "predictionskn = kn.predict(X_test)"
   ]
  },
  {
   "cell_type": "markdown",
   "metadata": {},
   "source": [
    "#### Accuracy du modèle"
   ]
  },
  {
   "cell_type": "code",
   "execution_count": 43,
   "metadata": {},
   "outputs": [
    {
     "name": "stdout",
     "output_type": "stream",
     "text": [
      "0.7181375861602919\n"
     ]
    }
   ],
   "source": [
    "from sklearn.metrics import accuracy_score\n",
    "\n",
    "print(accuracy_score(y_test, predictionskn))"
   ]
  },
  {
   "cell_type": "markdown",
   "metadata": {},
   "source": [
    "#### Enregistrer le modèle dans 'kn_model.sav'"
   ]
  },
  {
   "cell_type": "code",
   "execution_count": 44,
   "metadata": {},
   "outputs": [],
   "source": [
    "import pickle\n",
    "\n",
    "filename = 'kn_model.sav'\n",
    "pickle.dump(kn, open(filename, 'wb'))"
   ]
  }
 ],
 "metadata": {
  "kernelspec": {
   "display_name": "Python 3",
   "language": "python",
   "name": "python3"
  },
  "language_info": {
   "codemirror_mode": {
    "name": "ipython",
    "version": 3
   },
   "file_extension": ".py",
   "mimetype": "text/x-python",
   "name": "python",
   "nbconvert_exporter": "python",
   "pygments_lexer": "ipython3",
   "version": "3.7.3"
  }
 },
 "nbformat": 4,
 "nbformat_minor": 2
}
